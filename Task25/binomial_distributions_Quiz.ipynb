{
 "cells": [
  {
   "cell_type": "markdown",
   "metadata": {},
   "source": [
    "# Binomial Distributions\n",
    "Use NumPy to create simulations and compute proportions for the following outcomes. The first one is done for you."
   ]
  },
  {
   "cell_type": "markdown",
   "metadata": {},
   "source": [
    "In this quiz, you will simulate coin flips using np.random.binomial to compute proportions for the following outcomes.\n",
    "\n",
    "* A fair coin flip produces heads\n",
    "* Five fair coin flips produce exactly one head\n",
    "* Ten fair coin flips produce exactly four heads\n",
    "* Five biased coin flips with P(H) = 0.8 produce exactly five heads\n",
    "* Ten biased coin flips with P(H) = 0.15 produce at least three heads\n",
    "\n",
    "Then, you'll compare these proportions with probabilities in the quizzes below."
   ]
  },
  {
   "cell_type": "code",
   "execution_count": 1,
   "metadata": {},
   "outputs": [],
   "source": [
    "# import numpy\n",
    "import numpy as np"
   ]
  },
  {
   "cell_type": "markdown",
   "metadata": {},
   "source": [
    "### 1. A fair coin flip produces heads"
   ]
  },
  {
   "cell_type": "code",
   "execution_count": 2,
   "metadata": {},
   "outputs": [
    {
     "data": {
      "text/plain": [
       "0.499992"
      ]
     },
     "execution_count": 2,
     "metadata": {},
     "output_type": "execute_result"
    }
   ],
   "source": [
    "# simulate 1 million tests of one fair coin flip\n",
    "np.random.binomial(n=1,p=0.5,size=1000000)\n",
    "# remember, the output of these tests are the # successes, or # heads\n",
    "\n",
    "# proportion of tests that produced heads\n",
    "np.random.binomial(n=1,p=0.5,size=1000000).mean()\n"
   ]
  },
  {
   "cell_type": "markdown",
   "metadata": {},
   "source": [
    "### 2. Five fair coin flips produce exactly one head"
   ]
  },
  {
   "cell_type": "code",
   "execution_count": 3,
   "metadata": {},
   "outputs": [
    {
     "data": {
      "text/plain": [
       "0.156481"
      ]
     },
     "execution_count": 3,
     "metadata": {},
     "output_type": "execute_result"
    }
   ],
   "source": [
    "# simulate 1 million tests of five fair coin flips\n",
    "x=np.random.binomial(n=5,p=0.5,size=1000000)\n",
    "# proportion of tests that produced 1 head\n",
    "len(x[x==1])/len(x)"
   ]
  },
  {
   "cell_type": "markdown",
   "metadata": {},
   "source": [
    "### 3. Ten fair coin flips produce exactly four heads"
   ]
  },
  {
   "cell_type": "code",
   "execution_count": 4,
   "metadata": {},
   "outputs": [
    {
     "data": {
      "text/plain": [
       "0.20506"
      ]
     },
     "execution_count": 4,
     "metadata": {},
     "output_type": "execute_result"
    }
   ],
   "source": [
    "# simulate 1 million tests of ten fair coin flips\n",
    "x = np.random.binomial(n=10,p=0.5,size=1000000)\n",
    "# proportion of tests that produced 4 heads\n",
    "len(x[x==4]) / len(x)"
   ]
  },
  {
   "cell_type": "markdown",
   "metadata": {},
   "source": [
    "### 4. Five biased coin flips with P(H) = 0.8 produce exactly five heads"
   ]
  },
  {
   "cell_type": "code",
   "execution_count": 5,
   "metadata": {},
   "outputs": [
    {
     "data": {
      "text/plain": [
       "0.328156"
      ]
     },
     "execution_count": 5,
     "metadata": {},
     "output_type": "execute_result"
    }
   ],
   "source": [
    "# simulate 1 million tests of five biased coin flips\n",
    "x=np.random.binomial(n=5,p=0.8,size=1000000)\n",
    "x\n",
    "# proportion of tests that produced 5 heads\n",
    "len(x[x==5]) / len(x)\n"
   ]
  },
  {
   "cell_type": "markdown",
   "metadata": {},
   "source": [
    "### 5. Ten biased coin flips with P(H) = 0.15 produce at least 3 heads"
   ]
  },
  {
   "cell_type": "code",
   "execution_count": 6,
   "metadata": {},
   "outputs": [
    {
     "data": {
      "text/plain": [
       "0.179644"
      ]
     },
     "execution_count": 6,
     "metadata": {},
     "output_type": "execute_result"
    }
   ],
   "source": [
    "# simulate 1 million tests of ten biased coin flips\n",
    "x=np.random.binomial(n=10,p=0.15,size=1000000)\n",
    "x\n",
    "# proportion of tests that produced at least 3 heads\n",
    "len(x[x>=3]) / len(x)"
   ]
  }
 ],
 "metadata": {
  "kernelspec": {
   "display_name": "Python 3 (ipykernel)",
   "language": "python",
   "name": "python3"
  },
  "language_info": {
   "codemirror_mode": {
    "name": "ipython",
    "version": 3
   },
   "file_extension": ".py",
   "mimetype": "text/x-python",
   "name": "python",
   "nbconvert_exporter": "python",
   "pygments_lexer": "ipython3",
   "version": "3.10.9"
  }
 },
 "nbformat": 4,
 "nbformat_minor": 2
}
