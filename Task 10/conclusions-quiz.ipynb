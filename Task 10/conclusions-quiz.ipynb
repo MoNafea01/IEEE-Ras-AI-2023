{
 "cells": [
  {
   "cell_type": "markdown",
   "metadata": {},
   "source": [
    "# Drawing Conclusions Quiz\n",
    "Use the space below to explore `store_data.csv` to answer the quiz questions below."
   ]
  },
  {
   "cell_type": "code",
   "execution_count": 9,
   "metadata": {},
   "outputs": [
    {
     "name": "stderr",
     "output_type": "stream",
     "text": [
      "C:\\Users\\a1mme\\AppData\\Local\\Temp\\ipykernel_1448\\3615584077.py:4: FutureWarning: The default value of numeric_only in DataFrame.sum is deprecated. In a future version, it will default to False. In addition, specifying 'numeric_only=None' is deprecated. Select only valid columns or specify the value of numeric_only to silence this warning.\n",
      "  x=store.iloc[0:].sum()\n"
     ]
    }
   ],
   "source": [
    "# Given the information you gathered, what do you think is the best store financially? ------------"
   ]
  },
  {
   "cell_type": "code",
   "execution_count": 1,
   "metadata": {},
   "outputs": [],
   "source": [
    "# import and load the data\n",
    "import pandas as pd\n",
    "store = pd.read_csv('store_data.csv')\n",
    "new_store = pd.DataFrame(store,columns=store.columns[1:])\n",
    "x=new_store.iloc[0:]"
   ]
  },
  {
   "cell_type": "code",
   "execution_count": 2,
   "metadata": {},
   "outputs": [
    {
     "name": "stdout",
     "output_type": "stream",
     "text": [
      "<class 'pandas.core.frame.DataFrame'>\n",
      "RangeIndex: 200 entries, 0 to 199\n",
      "Data columns (total 6 columns):\n",
      " #   Column  Non-Null Count  Dtype \n",
      "---  ------  --------------  ----- \n",
      " 0   week    200 non-null    object\n",
      " 1   storeA  200 non-null    int64 \n",
      " 2   storeB  200 non-null    int64 \n",
      " 3   storeC  200 non-null    int64 \n",
      " 4   storeD  200 non-null    int64 \n",
      " 5   storeE  200 non-null    int64 \n",
      "dtypes: int64(5), object(1)\n",
      "memory usage: 9.5+ KB\n"
     ]
    },
    {
     "data": {
      "text/plain": [
       "0"
      ]
     },
     "execution_count": 2,
     "metadata": {},
     "output_type": "execute_result"
    }
   ],
   "source": [
    "# explore the data (gather as much information as you can)\n",
    "store.head(10)\n",
    "store.shape\n",
    "store.info()\n",
    "store.columns[store.columns[store.isna().any()]]\n",
    "store.duplicated().sum()"
   ]
  },
  {
   "cell_type": "code",
   "execution_count": 3,
   "metadata": {},
   "outputs": [],
   "source": [
    "# clean the data\n",
    "store['week']=pd.to_datetime(store['week'])"
   ]
  },
  {
   "cell_type": "code",
   "execution_count": 4,
   "metadata": {},
   "outputs": [
    {
     "data": {
      "text/html": [
       "<div>\n",
       "<style scoped>\n",
       "    .dataframe tbody tr th:only-of-type {\n",
       "        vertical-align: middle;\n",
       "    }\n",
       "\n",
       "    .dataframe tbody tr th {\n",
       "        vertical-align: top;\n",
       "    }\n",
       "\n",
       "    .dataframe thead th {\n",
       "        text-align: right;\n",
       "    }\n",
       "</style>\n",
       "<table border=\"1\" class=\"dataframe\">\n",
       "  <thead>\n",
       "    <tr style=\"text-align: right;\">\n",
       "      <th></th>\n",
       "      <th>week</th>\n",
       "      <th>storeA</th>\n",
       "      <th>storeB</th>\n",
       "      <th>storeC</th>\n",
       "      <th>storeD</th>\n",
       "      <th>storeE</th>\n",
       "    </tr>\n",
       "  </thead>\n",
       "  <tbody>\n",
       "    <tr>\n",
       "      <th>199</th>\n",
       "      <td>2018-02-25</td>\n",
       "      <td>25127</td>\n",
       "      <td>24595</td>\n",
       "      <td>16447</td>\n",
       "      <td>22783</td>\n",
       "      <td>7787</td>\n",
       "    </tr>\n",
       "  </tbody>\n",
       "</table>\n",
       "</div>"
      ],
      "text/plain": [
       "          week  storeA  storeB  storeC  storeD  storeE\n",
       "199 2018-02-25   25127   24595   16447   22783    7787"
      ]
     },
     "execution_count": 4,
     "metadata": {},
     "output_type": "execute_result"
    }
   ],
   "source": [
    "# total sales for the last month\n",
    "store[['storeA','storeB','storeC','storeD','storeE']]=store[['storeA','storeB','storeC','storeD','storeE']].iloc[-4:].sum()\n",
    "store[-1:]"
   ]
  },
  {
   "cell_type": "code",
   "execution_count": 5,
   "metadata": {},
   "outputs": [
    {
     "data": {
      "text/plain": [
       "storeA    25127.0\n",
       "storeB    24595.0\n",
       "storeC    16447.0\n",
       "storeD    22783.0\n",
       "storeE     7787.0\n",
       "dtype: float64"
      ]
     },
     "execution_count": 5,
     "metadata": {},
     "output_type": "execute_result"
    }
   ],
   "source": [
    "# average sales\n",
    "store[['storeA','storeB','storeC','storeD','storeE']].mean()"
   ]
  },
  {
   "cell_type": "code",
   "execution_count": 6,
   "metadata": {},
   "outputs": [
    {
     "data": {
      "text/html": [
       "<div>\n",
       "<style scoped>\n",
       "    .dataframe tbody tr th:only-of-type {\n",
       "        vertical-align: middle;\n",
       "    }\n",
       "\n",
       "    .dataframe tbody tr th {\n",
       "        vertical-align: top;\n",
       "    }\n",
       "\n",
       "    .dataframe thead th {\n",
       "        text-align: right;\n",
       "    }\n",
       "</style>\n",
       "<table border=\"1\" class=\"dataframe\">\n",
       "  <thead>\n",
       "    <tr style=\"text-align: right;\">\n",
       "      <th></th>\n",
       "      <th>week</th>\n",
       "      <th>storeA</th>\n",
       "      <th>storeB</th>\n",
       "      <th>storeC</th>\n",
       "      <th>storeD</th>\n",
       "      <th>storeE</th>\n",
       "    </tr>\n",
       "  </thead>\n",
       "  <tbody>\n",
       "    <tr>\n",
       "      <th>97</th>\n",
       "      <td>2016-03-13</td>\n",
       "      <td>25127</td>\n",
       "      <td>24595</td>\n",
       "      <td>16447</td>\n",
       "      <td>22783</td>\n",
       "      <td>7787</td>\n",
       "    </tr>\n",
       "  </tbody>\n",
       "</table>\n",
       "</div>"
      ],
      "text/plain": [
       "         week  storeA  storeB  storeC  storeD  storeE\n",
       "97 2016-03-13   25127   24595   16447   22783    7787"
      ]
     },
     "execution_count": 6,
     "metadata": {},
     "output_type": "execute_result"
    }
   ],
   "source": [
    "# sales on march 13, 2016\n",
    "store[store['week'] == '2016-03-13']"
   ]
  },
  {
   "cell_type": "code",
   "execution_count": 7,
   "metadata": {},
   "outputs": [
    {
     "data": {
      "text/html": [
       "<div>\n",
       "<style scoped>\n",
       "    .dataframe tbody tr th:only-of-type {\n",
       "        vertical-align: middle;\n",
       "    }\n",
       "\n",
       "    .dataframe tbody tr th {\n",
       "        vertical-align: top;\n",
       "    }\n",
       "\n",
       "    .dataframe thead th {\n",
       "        text-align: right;\n",
       "    }\n",
       "</style>\n",
       "<table border=\"1\" class=\"dataframe\">\n",
       "  <thead>\n",
       "    <tr style=\"text-align: right;\">\n",
       "      <th></th>\n",
       "      <th>week</th>\n",
       "      <th>storeA</th>\n",
       "      <th>storeB</th>\n",
       "      <th>storeC</th>\n",
       "      <th>storeD</th>\n",
       "      <th>storeE</th>\n",
       "    </tr>\n",
       "  </thead>\n",
       "  <tbody>\n",
       "    <tr>\n",
       "      <th>0</th>\n",
       "      <td>2014-05-04</td>\n",
       "      <td>25127</td>\n",
       "      <td>24595</td>\n",
       "      <td>16447</td>\n",
       "      <td>22783</td>\n",
       "      <td>7787</td>\n",
       "    </tr>\n",
       "    <tr>\n",
       "      <th>1</th>\n",
       "      <td>2014-05-11</td>\n",
       "      <td>25127</td>\n",
       "      <td>24595</td>\n",
       "      <td>16447</td>\n",
       "      <td>22783</td>\n",
       "      <td>7787</td>\n",
       "    </tr>\n",
       "    <tr>\n",
       "      <th>2</th>\n",
       "      <td>2014-05-18</td>\n",
       "      <td>25127</td>\n",
       "      <td>24595</td>\n",
       "      <td>16447</td>\n",
       "      <td>22783</td>\n",
       "      <td>7787</td>\n",
       "    </tr>\n",
       "    <tr>\n",
       "      <th>3</th>\n",
       "      <td>2014-05-25</td>\n",
       "      <td>25127</td>\n",
       "      <td>24595</td>\n",
       "      <td>16447</td>\n",
       "      <td>22783</td>\n",
       "      <td>7787</td>\n",
       "    </tr>\n",
       "    <tr>\n",
       "      <th>4</th>\n",
       "      <td>2014-06-01</td>\n",
       "      <td>25127</td>\n",
       "      <td>24595</td>\n",
       "      <td>16447</td>\n",
       "      <td>22783</td>\n",
       "      <td>7787</td>\n",
       "    </tr>\n",
       "    <tr>\n",
       "      <th>...</th>\n",
       "      <td>...</td>\n",
       "      <td>...</td>\n",
       "      <td>...</td>\n",
       "      <td>...</td>\n",
       "      <td>...</td>\n",
       "      <td>...</td>\n",
       "    </tr>\n",
       "    <tr>\n",
       "      <th>195</th>\n",
       "      <td>2018-01-28</td>\n",
       "      <td>25127</td>\n",
       "      <td>24595</td>\n",
       "      <td>16447</td>\n",
       "      <td>22783</td>\n",
       "      <td>7787</td>\n",
       "    </tr>\n",
       "    <tr>\n",
       "      <th>196</th>\n",
       "      <td>2018-02-04</td>\n",
       "      <td>25127</td>\n",
       "      <td>24595</td>\n",
       "      <td>16447</td>\n",
       "      <td>22783</td>\n",
       "      <td>7787</td>\n",
       "    </tr>\n",
       "    <tr>\n",
       "      <th>197</th>\n",
       "      <td>2018-02-11</td>\n",
       "      <td>25127</td>\n",
       "      <td>24595</td>\n",
       "      <td>16447</td>\n",
       "      <td>22783</td>\n",
       "      <td>7787</td>\n",
       "    </tr>\n",
       "    <tr>\n",
       "      <th>198</th>\n",
       "      <td>2018-02-18</td>\n",
       "      <td>25127</td>\n",
       "      <td>24595</td>\n",
       "      <td>16447</td>\n",
       "      <td>22783</td>\n",
       "      <td>7787</td>\n",
       "    </tr>\n",
       "    <tr>\n",
       "      <th>199</th>\n",
       "      <td>2018-02-25</td>\n",
       "      <td>25127</td>\n",
       "      <td>24595</td>\n",
       "      <td>16447</td>\n",
       "      <td>22783</td>\n",
       "      <td>7787</td>\n",
       "    </tr>\n",
       "  </tbody>\n",
       "</table>\n",
       "<p>200 rows × 6 columns</p>\n",
       "</div>"
      ],
      "text/plain": [
       "          week  storeA  storeB  storeC  storeD  storeE\n",
       "0   2014-05-04   25127   24595   16447   22783    7787\n",
       "1   2014-05-11   25127   24595   16447   22783    7787\n",
       "2   2014-05-18   25127   24595   16447   22783    7787\n",
       "3   2014-05-25   25127   24595   16447   22783    7787\n",
       "4   2014-06-01   25127   24595   16447   22783    7787\n",
       "..         ...     ...     ...     ...     ...     ...\n",
       "195 2018-01-28   25127   24595   16447   22783    7787\n",
       "196 2018-02-04   25127   24595   16447   22783    7787\n",
       "197 2018-02-11   25127   24595   16447   22783    7787\n",
       "198 2018-02-18   25127   24595   16447   22783    7787\n",
       "199 2018-02-25   25127   24595   16447   22783    7787\n",
       "\n",
       "[200 rows x 6 columns]"
      ]
     },
     "execution_count": 7,
     "metadata": {},
     "output_type": "execute_result"
    }
   ],
   "source": [
    "# worst week for store C\n",
    "store[store[\"storeC\"] == store[\"storeC\"].min()]"
   ]
  },
  {
   "cell_type": "code",
   "execution_count": 8,
   "metadata": {
    "scrolled": false
   },
   "outputs": [
    {
     "data": {
      "text/html": [
       "<div>\n",
       "<style scoped>\n",
       "    .dataframe tbody tr th:only-of-type {\n",
       "        vertical-align: middle;\n",
       "    }\n",
       "\n",
       "    .dataframe tbody tr th {\n",
       "        vertical-align: top;\n",
       "    }\n",
       "\n",
       "    .dataframe thead th {\n",
       "        text-align: right;\n",
       "    }\n",
       "</style>\n",
       "<table border=\"1\" class=\"dataframe\">\n",
       "  <thead>\n",
       "    <tr style=\"text-align: right;\">\n",
       "      <th></th>\n",
       "      <th>week</th>\n",
       "      <th>storeA</th>\n",
       "      <th>storeB</th>\n",
       "      <th>storeC</th>\n",
       "      <th>storeD</th>\n",
       "      <th>storeE</th>\n",
       "    </tr>\n",
       "  </thead>\n",
       "  <tbody>\n",
       "    <tr>\n",
       "      <th>199</th>\n",
       "      <td>2018-02-25</td>\n",
       "      <td>226143</td>\n",
       "      <td>221355</td>\n",
       "      <td>148023</td>\n",
       "      <td>205047</td>\n",
       "      <td>70083</td>\n",
       "    </tr>\n",
       "  </tbody>\n",
       "</table>\n",
       "</div>"
      ],
      "text/plain": [
       "          week  storeA  storeB  storeC  storeD  storeE\n",
       "199 2018-02-25  226143  221355  148023  205047   70083"
      ]
     },
     "execution_count": 8,
     "metadata": {},
     "output_type": "execute_result"
    }
   ],
   "source": [
    "# total sales during most recent 3 month period\n",
    "store[['storeA','storeB','storeC','storeD','storeE']]=store[['storeA','storeB','storeC','storeD','storeE']].iloc[187:196].sum()\n",
    "store[-1:]"
   ]
  },
  {
   "cell_type": "code",
   "execution_count": 9,
   "metadata": {},
   "outputs": [],
   "source": [
    "# Go back to the top and answer the questions"
   ]
  },
  {
   "cell_type": "markdown",
   "metadata": {},
   "source": [
    "##### Which store has the highest total sales for the final month of data"
   ]
  },
  {
   "cell_type": "code",
   "execution_count": 12,
   "metadata": {},
   "outputs": [
    {
     "data": {
      "text/plain": [
       "storeA    1173096\n",
       "storeB    1351342\n",
       "storeC     988421\n",
       "storeD    1086281\n",
       "storeE     516005\n",
       "dtype: int64"
      ]
     },
     "execution_count": 12,
     "metadata": {},
     "output_type": "execute_result"
    }
   ],
   "source": [
    "x.sum()    #store B"
   ]
  },
  {
   "cell_type": "markdown",
   "metadata": {},
   "source": [
    "##### Which store makes the most sales on average"
   ]
  },
  {
   "cell_type": "code",
   "execution_count": 13,
   "metadata": {},
   "outputs": [
    {
     "data": {
      "text/plain": [
       "storeA    5865.480\n",
       "storeB    6756.710\n",
       "storeC    4942.105\n",
       "storeD    5431.405\n",
       "storeE    2580.025\n",
       "dtype: float64"
      ]
     },
     "execution_count": 13,
     "metadata": {},
     "output_type": "execute_result"
    }
   ],
   "source": [
    "x.mean()"
   ]
  },
  {
   "cell_type": "markdown",
   "metadata": {},
   "source": [
    "##### What is the most consistent store in sales\n"
   ]
  },
  {
   "cell_type": "code",
   "execution_count": 14,
   "metadata": {},
   "outputs": [
    {
     "data": {
      "text/plain": [
       "storeD    1183.111323\n",
       "Name: std, dtype: float64"
      ]
     },
     "execution_count": 14,
     "metadata": {},
     "output_type": "execute_result"
    }
   ],
   "source": [
    "new_store.describe().loc['std'][new_store.describe().loc['std']==new_store.describe().loc['std'].min()]"
   ]
  }
 ],
 "metadata": {
  "kernelspec": {
   "display_name": "Python 3 (ipykernel)",
   "language": "python",
   "name": "python3"
  },
  "language_info": {
   "codemirror_mode": {
    "name": "ipython",
    "version": 3
   },
   "file_extension": ".py",
   "mimetype": "text/x-python",
   "name": "python",
   "nbconvert_exporter": "python",
   "pygments_lexer": "ipython3",
   "version": "3.10.9"
  }
 },
 "nbformat": 4,
 "nbformat_minor": 2
}
