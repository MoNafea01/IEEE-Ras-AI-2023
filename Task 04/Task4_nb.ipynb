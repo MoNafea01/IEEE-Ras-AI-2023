{
 "cells": [
  {
   "cell_type": "code",
   "execution_count": null,
   "id": "0e3b25b3",
   "metadata": {},
   "outputs": [],
   "source": [
    "Notes for Task 4"
   ]
  },
  {
   "cell_type": "code",
   "execution_count": null,
   "id": "7b6537c3",
   "metadata": {},
   "outputs": [],
   "source": [
    "^ What Is Coming Up?\n",
    "Center => Mean - Median - Mode\n",
    "Common Shapes => Left&Right Skewed - Outliers"
   ]
  },
  {
   "cell_type": "code",
   "execution_count": null,
   "id": "bd3c11cc",
   "metadata": {},
   "outputs": [],
   "source": [
    "^ What is Data?\n",
    "Data is distinct pieces of information (Spread sheet, Video, Text, Database, Images, Audio, etc...)"
   ]
  },
  {
   "cell_type": "code",
   "execution_count": null,
   "id": "cd646348",
   "metadata": {},
   "outputs": [],
   "source": [
    "^ Data types\n",
    "Quantitive (No. of dogs) & Categorical (Breed of Dogs)"
   ]
  },
  {
   "cell_type": "code",
   "execution_count": null,
   "id": "59010849",
   "metadata": {},
   "outputs": [],
   "source": [
    "^Categorical Ordinal(Ordered) and Nominal Data(No order)\n",
    "Ordinal (Rating{V negative, Negative, Neutral, Positive, V positive}) - Nominal (Breed{Lab, Poodle, Pug, Chihuahua})"
   ]
  },
  {
   "cell_type": "code",
   "execution_count": null,
   "id": "d5ccdbd7",
   "metadata": {},
   "outputs": [],
   "source": [
    "^Comparing continuous and discrete data\n",
    "Continuos (ages of dogs) - Discrete(NO. of dogs)\n",
    "continuos data type : if we split this data type into smaller pieces we can still have values => we can talk about age in term of\n",
    "    years, months, days, hours\n",
    "Discrete data type : countable values"
   ]
  },
  {
   "cell_type": "code",
   "execution_count": null,
   "id": "a35a4f36",
   "metadata": {},
   "outputs": [],
   "source": [
    "^Summary of the Previous Notes\n",
    "Quantitive : Continous (0.1, 0.2, 0.3, 5, 10, ...) & Discrete (0, 1, 2, 3, ...)\n",
    "Catigorical: Ordinal (High,Low,Med) & Nominal (Lab, Poodle)"
   ]
  },
  {
   "cell_type": "code",
   "execution_count": null,
   "id": "ad35e22c",
   "metadata": {},
   "outputs": [],
   "source": [
    "^ Introduction to Descriptive Statistics\n",
    "Center - Spread - Shpae - Outliers"
   ]
  },
  {
   "cell_type": "code",
   "execution_count": null,
   "id": "c5b8ae98",
   "metadata": {},
   "outputs": [],
   "source": [
    "^ Center\n",
    "Mean - Median - Mode\n",
    "Mean   => sum of all data values / No. of data points\n",
    "Median => is the center value if we ordered all values\n",
    "          if we have odd number of values then the median is ordered in the half\n",
    "          if it is even then the median = summation of the two centered values / 2\n",
    "Mode   => the value that occurs most often"
   ]
  }
 ],
 "metadata": {
  "kernelspec": {
   "display_name": "Python 3 (ipykernel)",
   "language": "python",
   "name": "python3"
  },
  "language_info": {
   "codemirror_mode": {
    "name": "ipython",
    "version": 3
   },
   "file_extension": ".py",
   "mimetype": "text/x-python",
   "name": "python",
   "nbconvert_exporter": "python",
   "pygments_lexer": "ipython3",
   "version": "3.10.9"
  }
 },
 "nbformat": 4,
 "nbformat_minor": 5
}
